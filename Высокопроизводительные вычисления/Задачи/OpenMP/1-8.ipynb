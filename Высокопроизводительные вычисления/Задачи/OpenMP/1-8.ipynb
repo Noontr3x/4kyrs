{
 "cells": [
  {
   "cell_type": "markdown",
   "metadata": {},
   "source": [
    "Выполнить сложение двух векторов, содержащих от 50 млн. вещественных значений (предварительно заполнить векторы случайными значениями, предусмотреть выделение и освобождение областей памяти для векторов с помощью функций стандартной библиотеки С++). Вычислить и вывести на экран время выполнения сложения, с использованием функций библиотеки OpenMP. Вывести на экран размер и любой элемент результирующего вектора."
   ]
  },
  {
   "cell_type": "code",
   "execution_count": 4,
   "metadata": {},
   "outputs": [
    {
     "name": "stdout",
     "output_type": "stream",
     "text": [
      "Collecting pathos\n",
      "  Downloading pathos-0.3.2-py3-none-any.whl.metadata (11 kB)\n",
      "Collecting ppft>=1.7.6.8 (from pathos)\n",
      "  Downloading ppft-1.7.6.8-py3-none-any.whl.metadata (12 kB)\n",
      "Collecting dill>=0.3.8 (from pathos)\n",
      "  Downloading dill-0.3.8-py3-none-any.whl.metadata (10 kB)\n",
      "Collecting pox>=0.3.4 (from pathos)\n",
      "  Downloading pox-0.3.4-py3-none-any.whl.metadata (8.0 kB)\n",
      "Collecting multiprocess>=0.70.16 (from pathos)\n",
      "  Downloading multiprocess-0.70.16-py310-none-any.whl.metadata (7.2 kB)\n",
      "Downloading pathos-0.3.2-py3-none-any.whl (82 kB)\n",
      "\u001b[2K   \u001b[90m━━━━━━━━━━━━━━━━━━━━━━━━━━━━━━━━━━━━━━━━\u001b[0m \u001b[32m82.1/82.1 kB\u001b[0m \u001b[31m110.0 kB/s\u001b[0m eta \u001b[36m0:00:00\u001b[0ma \u001b[36m0:00:01\u001b[0m\n",
      "\u001b[?25hDownloading dill-0.3.8-py3-none-any.whl (116 kB)\n",
      "\u001b[2K   \u001b[90m━━━━━━━━━━━━━━━━━━━━━━━━━━━━━━━━━━━━━━━\u001b[0m \u001b[32m116.3/116.3 kB\u001b[0m \u001b[31m494.9 kB/s\u001b[0m eta \u001b[36m0:00:00\u001b[0ma \u001b[36m0:00:01\u001b[0m\n",
      "\u001b[?25hDownloading multiprocess-0.70.16-py310-none-any.whl (134 kB)\n",
      "\u001b[2K   \u001b[90m━━━━━━━━━━━━━━━━━━━━━━━━━━━━━━━━━━━━━━━\u001b[0m \u001b[32m134.8/134.8 kB\u001b[0m \u001b[31m865.4 kB/s\u001b[0m eta \u001b[36m0:00:00\u001b[0m00:01\u001b[0m00:01\u001b[0m\n",
      "\u001b[?25hDownloading pox-0.3.4-py3-none-any.whl (29 kB)\n",
      "Downloading ppft-1.7.6.8-py3-none-any.whl (56 kB)\n",
      "\u001b[2K   \u001b[90m━━━━━━━━━━━━━━━━━━━━━━━━━━━━━━━━━━━━━━━━\u001b[0m \u001b[32m56.8/56.8 kB\u001b[0m \u001b[31m1.8 MB/s\u001b[0m eta \u001b[36m0:00:00\u001b[0m\n",
      "\u001b[?25hInstalling collected packages: ppft, pox, dill, multiprocess, pathos\n",
      "Successfully installed dill-0.3.8 multiprocess-0.70.16 pathos-0.3.2 pox-0.3.4 ppft-1.7.6.8\n",
      "Note: you may need to restart the kernel to use updated packages.\n"
     ]
    }
   ],
   "source": [
    "pip install pathos\n"
   ]
  },
  {
   "cell_type": "code",
   "execution_count": 5,
   "metadata": {},
   "outputs": [
    {
     "name": "stdout",
     "output_type": "stream",
     "text": [
      "Время выполнения сложения: 5.8894 секунд\n",
      "Размер результирующего вектора: 50000000\n",
      "Любой элемент результирующего вектора: 1.6765250329613686\n"
     ]
    }
   ],
   "source": [
    "import numpy as np\n",
    "import time\n",
    "from pathos.multiprocessing import ProcessPool\n",
    "\n",
    "# Функция для сложения частей векторов\n",
    "def vector_addition(a_part, b_part):\n",
    "    return a_part + b_part\n",
    "\n",
    "# Размер векторов\n",
    "size = 50_000_000\n",
    "\n",
    "# Заполнение векторов случайными значениями\n",
    "a = np.random.rand(size)\n",
    "b = np.random.rand(size)\n",
    "\n",
    "# Определение количества частей для параллельного вычисления\n",
    "num_parts = 4  # Можно изменить на cpu_count(), если хотите использовать все доступные процессоры\n",
    "part_size = size // num_parts\n",
    "\n",
    "# Разделение векторов на части\n",
    "parts = [(a[i*part_size:(i+1)*part_size], b[i*part_size:(i+1)*part_size]) for i in range(num_parts)]\n",
    "\n",
    "# Запуск параллельного сложения\n",
    "start_time = time.time()\n",
    "with ProcessPool(nodes=num_parts) as pool:\n",
    "    results = pool.map(vector_addition, [part[0] for part in parts], [part[1] for part in parts])\n",
    "end_time = time.time()\n",
    "\n",
    "# Объединение результатов\n",
    "result = np.concatenate(results)\n",
    "\n",
    "# Вывод времени выполнения, размера и одного элемента результирующего вектора\n",
    "print(f\"Время выполнения сложения: {end_time - start_time:.4f} секунд\")\n",
    "print(f\"Размер результирующего вектора: {result.size}\")\n",
    "print(f\"Любой элемент результирующего вектора: {result[0]}\")\n"
   ]
  },
  {
   "cell_type": "markdown",
   "metadata": {},
   "source": [
    "Выполнить задание 1, используя директиву Parallel с опцией Shared (для векторов). Сравнить полученное время с временем в задаче 1, сделать выводы."
   ]
  },
  {
   "cell_type": "code",
   "execution_count": 6,
   "metadata": {},
   "outputs": [
    {
     "name": "stdout",
     "output_type": "stream",
     "text": [
      "Collecting numba\n",
      "  Downloading numba-0.59.1-cp310-cp310-macosx_10_9_x86_64.whl.metadata (2.7 kB)\n",
      "Collecting llvmlite<0.43,>=0.42.0dev0 (from numba)\n",
      "  Downloading llvmlite-0.42.0-cp310-cp310-macosx_10_9_x86_64.whl.metadata (4.8 kB)\n",
      "Requirement already satisfied: numpy<1.27,>=1.22 in /Library/Frameworks/Python.framework/Versions/3.10/lib/python3.10/site-packages (from numba) (1.26.4)\n",
      "Downloading numba-0.59.1-cp310-cp310-macosx_10_9_x86_64.whl (2.6 MB)\n",
      "\u001b[2K   \u001b[90m━━━━━━━━━━━━━━━━━━━━━━━━━━━━━━━━━━━━━━━━\u001b[0m \u001b[32m2.6/2.6 MB\u001b[0m \u001b[31m2.2 MB/s\u001b[0m eta \u001b[36m0:00:00\u001b[0m00:01\u001b[0m00:01\u001b[0m0m\n",
      "\u001b[?25hDownloading llvmlite-0.42.0-cp310-cp310-macosx_10_9_x86_64.whl (31.1 MB)\n",
      "\u001b[2K   \u001b[90m━━━━━━━━━━━━━━━━━━━━━━━━━━━━━━━━━━━━━━━━\u001b[0m \u001b[32m31.1/31.1 MB\u001b[0m \u001b[31m5.0 MB/s\u001b[0m eta \u001b[36m0:00:00\u001b[0m00:01\u001b[0m00:01\u001b[0m\n",
      "\u001b[?25hInstalling collected packages: llvmlite, numba\n",
      "Successfully installed llvmlite-0.42.0 numba-0.59.1\n",
      "Note: you may need to restart the kernel to use updated packages.\n"
     ]
    }
   ],
   "source": [
    "pip install numba\n"
   ]
  },
  {
   "cell_type": "code",
   "execution_count": 7,
   "metadata": {},
   "outputs": [
    {
     "name": "stdout",
     "output_type": "stream",
     "text": [
      "Время выполнения параллельного сложения: 11.2960 секунд\n",
      "Размер результирующего вектора: 50000000\n",
      "Любой элемент результирующего вектора: 1.0149861499452393\n"
     ]
    }
   ],
   "source": [
    "import numpy as np\n",
    "import time\n",
    "from numba import njit, prange\n",
    "\n",
    "# Размер векторов\n",
    "size = 50_000_000\n",
    "\n",
    "# Заполнение векторов случайными значениями\n",
    "a = np.random.rand(size)\n",
    "b = np.random.rand(size)\n",
    "\n",
    "# Функция для сложения векторов с использованием numba и параллельных вычислений\n",
    "@njit(parallel=True)\n",
    "def parallel_vector_addition(a, b):\n",
    "    result = np.empty_like(a)\n",
    "    for i in prange(a.size):\n",
    "        result[i] = a[i] + b[i]\n",
    "    return result\n",
    "\n",
    "# Запуск параллельного сложения\n",
    "start_time = time.time()\n",
    "result = parallel_vector_addition(a, b)\n",
    "end_time = time.time()\n",
    "\n",
    "# Вывод времени выполнения, размера и одного элемента результирующего вектора\n",
    "print(f\"Время выполнения параллельного сложения: {end_time - start_time:.4f} секунд\")\n",
    "print(f\"Размер результирующего вектора: {result.size}\")\n",
    "print(f\"Любой элемент результирующего вектора: {result[0]}\")\n"
   ]
  },
  {
   "cell_type": "markdown",
   "metadata": {},
   "source": [
    "Определите, какое максимальное количество нитей позволяет породить для выполнения параллельных областей программы ваша система."
   ]
  },
  {
   "cell_type": "code",
   "execution_count": 8,
   "metadata": {},
   "outputs": [
    {
     "name": "stdout",
     "output_type": "stream",
     "text": [
      "Количество доступных логических процессоров: 4\n"
     ]
    }
   ],
   "source": [
    "import os\n",
    "\n",
    "# Получение количества доступных логических процессоров\n",
    "num_threads = os.cpu_count()\n",
    "print(f\"Количество доступных логических процессоров: {num_threads}\")\n"
   ]
  },
  {
   "cell_type": "markdown",
   "metadata": {},
   "source": [
    "При помощи трёх уровней вложенных параллельных областей породите 8 нитей (на каждом уровне параллельную область должны исполнять 2 нити). Посмотрите, как будет исполняться программа, если запретить вложенные параллельные области."
   ]
  },
  {
   "cell_type": "markdown",
   "metadata": {},
   "source": [
    "Без запрета"
   ]
  },
  {
   "cell_type": "code",
   "execution_count": 10,
   "metadata": {},
   "outputs": [
    {
     "name": "stdout",
     "output_type": "stream",
     "text": [
      "Level 1, Thread 0\n",
      "\n",
      "Level 1, Thread 1\n",
      "\n",
      "Level 2, Thread 0\n",
      "\n",
      "Level 3, Thread 0\n",
      "\n",
      "Level 3, Thread 1\n",
      "\n",
      "Level 2, Thread 1\n",
      "\n",
      "Level 3, Thread 0\n",
      "\n",
      "Level 3, Thread 1\n",
      "\n",
      "Level 2, Thread 0\n",
      "\n",
      "Level 2, Thread 1\n",
      "\n",
      "Level 3, Thread 0\n",
      "\n",
      "Level 3, Thread 1\n",
      "\n",
      "Level 3, Thread 0\n",
      "\n",
      "Level 3, Thread 1\n",
      "\n"
     ]
    }
   ],
   "source": [
    "from joblib import Parallel, delayed\n",
    "import multiprocessing\n",
    "import nest_asyncio\n",
    "\n",
    "nest_asyncio.apply()\n",
    "\n",
    "# Функция для выполнения работы в параллельных областях\n",
    "def task(level, thread_id):\n",
    "    print(f\"Level {level}, Thread {thread_id}\\n\")\n",
    "    if level < 3:\n",
    "        Parallel(n_jobs=2)(delayed(task)(level+1, i) for i in range(2))\n",
    "\n",
    "# Основной запуск параллельных областей\n",
    "if __name__ == \"__main__\":\n",
    "    # Параллельная область 1-го уровня\n",
    "    Parallel(n_jobs=2)(delayed(task)(1, i) for i in range(2))\n"
   ]
  },
  {
   "cell_type": "markdown",
   "metadata": {},
   "source": [
    "С запретом"
   ]
  },
  {
   "cell_type": "code",
   "execution_count": 11,
   "metadata": {},
   "outputs": [
    {
     "name": "stdout",
     "output_type": "stream",
     "text": [
      "Level 1, Thread 0\n",
      "Level 1, Thread 1\n",
      "Level 2, Thread 0\n",
      "Level 2, Thread 0\n",
      "Level 3, Thread 0\n",
      "Level 3, Thread 1\n",
      "Level 2, Thread 1\n",
      "Level 3, Thread 0\n",
      "Level 3, Thread 1\n",
      "Level 2, Thread 1\n",
      "Level 3, Thread 0\n",
      "Level 3, Thread 1\n",
      "Level 3, Thread 0\n",
      "Level 3, Thread 1\n"
     ]
    }
   ],
   "source": [
    "from joblib import Parallel, delayed\n",
    "import multiprocessing\n",
    "import nest_asyncio\n",
    "\n",
    "nest_asyncio.apply()\n",
    "\n",
    "# Функция для выполнения работы в параллельных областях\n",
    "def task(level, thread_id):\n",
    "    print(f\"Level {level}, Thread {thread_id}\")\n",
    "    if level < 3:\n",
    "        Parallel(n_jobs=2, prefer=\"threads\")(delayed(task)(level+1, i) for i in range(2))\n",
    "\n",
    "# Основной запуск параллельных областей\n",
    "if __name__ == \"__main__\":\n",
    "    # Запрет вложенных параллельных областей\n",
    "    Parallel(n_jobs=2, prefer=\"threads\")(delayed(task)(1, i) for i in range(2))\n"
   ]
  },
  {
   "cell_type": "markdown",
   "metadata": {},
   "source": [
    "Написать пример реализации директивы For с опцией nowait, проиллюстрировать работу (печатать номер текущей итерации и номер потока, выполнившего свою часть цикла)"
   ]
  },
  {
   "cell_type": "code",
   "execution_count": 29,
   "metadata": {},
   "outputs": [
    {
     "name": "stdout",
     "output_type": "stream",
     "text": [
      "Iteration: 0, Thread: 123145723068416\n",
      "Iteration: 4, Thread: 123145723068416\n",
      "Iteration: 8, Thread: 123145723068416\n",
      "Iteration: 1, Thread: 123145723068416\n",
      "Iteration: 5, Thread: 123145723068416\n",
      "Iteration: 9, Thread: 123145723068416\n",
      "Iteration: 2, Thread: 123145723068416\n",
      "Iteration: 6, Thread: 123145723068416\n",
      "Iteration: 3, Thread: 123145723068416\n",
      "Iteration: 7, Thread: 123145723068416\n"
     ]
    }
   ],
   "source": [
    "import threading\n",
    "\n",
    "def parallel_for_nowait():\n",
    "    num_threads = 4\n",
    "    num_iters = 10\n",
    "    threads = []\n",
    "\n",
    "    # Определение функции, которая будет выполняться в каждом потоке\n",
    "    def worker(tid):\n",
    "        for i in range(tid, num_iters, num_threads):\n",
    "            thread_id = threading.get_ident()\n",
    "            print(f\"Iteration: {i}, Thread: {thread_id}\")\n",
    "\n",
    "    # Создание и запуск потоков\n",
    "    for tid in range(num_threads):\n",
    "        thread = threading.Thread(target=worker, args=(tid,))\n",
    "        threads.append(thread)\n",
    "        thread.start()\n",
    "\n",
    "    # Ожидание завершения всех потоков\n",
    "    for thread in threads:\n",
    "        thread.join()\n",
    "\n",
    "# Вызов функции для демонстрации\n",
    "parallel_for_nowait()\n"
   ]
  },
  {
   "cell_type": "markdown",
   "metadata": {},
   "source": [
    "Написать пример реализации директивы For с опцией collapse, проиллюстрировать работу (печатать номера текущих итераций и номер потока, их выполнившего)."
   ]
  },
  {
   "cell_type": "code",
   "execution_count": 19,
   "metadata": {},
   "outputs": [
    {
     "name": "stdout",
     "output_type": "stream",
     "text": [
      "Iteration: (0, 0), Thread: 123145723068416\n",
      "Iteration: (0, 1), Thread: 123145723068416\n",
      "Iteration: (0, 2), Thread: 123145723068416\n",
      "Iteration: (0, 3), Thread: 123145723068416\n",
      "Iteration: (1, 0), Thread: 123145723068416\n",
      "Iteration: (1, 1), Thread: 123145723068416\n",
      "Iteration: (1, 2), Thread: 123145723068416\n",
      "Iteration: (1, 3), Thread: 123145723068416\n",
      "Iteration: (2, 0), Thread: 123145723068416\n",
      "Iteration: (2, 1), Thread: 123145723068416\n",
      "Iteration: (2, 2), Thread: 123145723068416\n",
      "Iteration: (2, 3), Thread: 123145723068416\n"
     ]
    }
   ],
   "source": [
    "import threading\n",
    "\n",
    "def parallel_for_collapse():\n",
    "    num_threads = 4\n",
    "    num_iters = 3 * 4  # Произведение количества итераций в каждом из циклов\n",
    "    threads = []\n",
    "\n",
    "    # Определение функции, которая будет выполняться в каждом потоке\n",
    "    def worker(tid):\n",
    "        # Вычисление начальной и конечной итерации для данного потока\n",
    "        start = tid * num_iters // num_threads\n",
    "        end = (tid + 1) * num_iters // num_threads\n",
    "\n",
    "        # Параллельный цикл с опцией collapse\n",
    "        for k in range(start, end):\n",
    "            i, j = divmod(k, 4)  # Распределение индекса k по двум измерениям\n",
    "            thread_id = threading.get_ident()\n",
    "            print(f\"Iteration: ({i}, {j}), Thread: {thread_id}\")\n",
    "\n",
    "    # Создание и запуск потоков\n",
    "    for tid in range(num_threads):\n",
    "        thread = threading.Thread(target=worker, args=(tid,))\n",
    "        threads.append(thread)\n",
    "        thread.start()\n",
    "\n",
    "    # Ожидание завершения всех потоков\n",
    "    for thread in threads:\n",
    "        thread.join()\n",
    "\n",
    "# Вызов функции для демонстрации\n",
    "parallel_for_collapse()\n"
   ]
  },
  {
   "cell_type": "markdown",
   "metadata": {},
   "source": [
    "Написать пример реализации директивы For с опцией reduction, в котором определенным образом накапливаются значения из разных итераций цикла. Проиллюстрировать работу"
   ]
  },
  {
   "cell_type": "code",
   "execution_count": 30,
   "metadata": {},
   "outputs": [
    {
     "name": "stdout",
     "output_type": "stream",
     "text": [
      "Total sum: 45\n"
     ]
    }
   ],
   "source": [
    "from numba import njit, prange\n",
    "import numpy as np\n",
    "\n",
    "@njit(parallel=True)\n",
    "def parallel_sum_reduction(arr):\n",
    "    # Инициализация переменной для накопления суммы\n",
    "    total_sum = 0\n",
    "\n",
    "    # Параллельный цикл с опцией reduction\n",
    "    for i in prange(len(arr)):\n",
    "        # Накопление суммы\n",
    "        total_sum += arr[i]\n",
    "\n",
    "    return total_sum\n",
    "\n",
    "# Создание тестовых данных\n",
    "data = np.arange(10)\n",
    "\n",
    "# Вызов функции для демонстрации\n",
    "result = parallel_sum_reduction(data)\n",
    "print(\"Total sum:\", result)\n"
   ]
  },
  {
   "cell_type": "markdown",
   "metadata": {},
   "source": [
    "Написать пример реализации директивы Sections и директивы Section (совместно) для 4-х задач, в которых все задачи могут работать параллельно, но 2 и 3 задачи – только вместе, друг за другом."
   ]
  },
  {
   "cell_type": "code",
   "execution_count": 42,
   "metadata": {},
   "outputs": [
    {
     "name": "stdout",
     "output_type": "stream",
     "text": [
      "Collecting pymp\n",
      "  Downloading pymp-0.0.6.tar.gz (10.7 MB)\n",
      "\u001b[2K     \u001b[90m━━━━━━━━━━━━━━━━━━━━━━━━━━━━━━━━━━━━━━━━\u001b[0m \u001b[32m10.7/10.7 MB\u001b[0m \u001b[31m2.2 MB/s\u001b[0m eta \u001b[36m0:00:00\u001b[0m00:01\u001b[0m00:01\u001b[0mm\n",
      "\u001b[?25h  Preparing metadata (setup.py) ... \u001b[?25ldone\n",
      "\u001b[?25hRequirement already satisfied: numpy>=1.16.3 in /Library/Frameworks/Python.framework/Versions/3.10/lib/python3.10/site-packages (from pymp) (1.26.4)\n",
      "Requirement already satisfied: scipy>=1.3.0 in /Library/Frameworks/Python.framework/Versions/3.10/lib/python3.10/site-packages (from pymp) (1.11.4)\n",
      "Requirement already satisfied: pandas>=0.25.0 in /Library/Frameworks/Python.framework/Versions/3.10/lib/python3.10/site-packages (from pymp) (2.1.4)\n",
      "Requirement already satisfied: numba>=0.48.0 in /Library/Frameworks/Python.framework/Versions/3.10/lib/python3.10/site-packages (from pymp) (0.59.1)\n",
      "Collecting param>=1.12.0 (from pymp)\n",
      "  Downloading param-2.1.0-py3-none-any.whl.metadata (5.9 kB)\n",
      "Collecting panel>=0.13.1 (from pymp)\n",
      "  Downloading panel-1.4.4-py3-none-any.whl.metadata (25 kB)\n",
      "Collecting pytest (from pymp)\n",
      "  Downloading pytest-8.2.1-py3-none-any.whl.metadata (7.6 kB)\n",
      "Requirement already satisfied: llvmlite<0.43,>=0.42.0dev0 in /Library/Frameworks/Python.framework/Versions/3.10/lib/python3.10/site-packages (from numba>=0.48.0->pymp) (0.42.0)\n",
      "Requirement already satisfied: python-dateutil>=2.8.2 in /Library/Frameworks/Python.framework/Versions/3.10/lib/python3.10/site-packages (from pandas>=0.25.0->pymp) (2.8.2)\n",
      "Requirement already satisfied: pytz>=2020.1 in /Library/Frameworks/Python.framework/Versions/3.10/lib/python3.10/site-packages (from pandas>=0.25.0->pymp) (2023.3.post1)\n",
      "Requirement already satisfied: tzdata>=2022.1 in /Library/Frameworks/Python.framework/Versions/3.10/lib/python3.10/site-packages (from pandas>=0.25.0->pymp) (2023.4)\n",
      "Collecting bokeh<3.5.0,>=3.4.0 (from panel>=0.13.1->pymp)\n",
      "  Downloading bokeh-3.4.1-py3-none-any.whl.metadata (12 kB)\n",
      "Collecting pyviz-comms>=2.0.0 (from panel>=0.13.1->pymp)\n",
      "  Downloading pyviz_comms-3.0.2-py3-none-any.whl.metadata (7.7 kB)\n",
      "Collecting xyzservices>=2021.09.1 (from panel>=0.13.1->pymp)\n",
      "  Downloading xyzservices-2024.4.0-py3-none-any.whl.metadata (4.0 kB)\n",
      "Requirement already satisfied: markdown in /Library/Frameworks/Python.framework/Versions/3.10/lib/python3.10/site-packages (from panel>=0.13.1->pymp) (3.6)\n",
      "Requirement already satisfied: markdown-it-py in /Library/Frameworks/Python.framework/Versions/3.10/lib/python3.10/site-packages (from panel>=0.13.1->pymp) (3.0.0)\n",
      "Collecting linkify-it-py (from panel>=0.13.1->pymp)\n",
      "  Downloading linkify_it_py-2.0.3-py3-none-any.whl.metadata (8.5 kB)\n",
      "Collecting mdit-py-plugins (from panel>=0.13.1->pymp)\n",
      "  Downloading mdit_py_plugins-0.4.1-py3-none-any.whl.metadata (2.8 kB)\n",
      "Requirement already satisfied: requests in /Library/Frameworks/Python.framework/Versions/3.10/lib/python3.10/site-packages (from panel>=0.13.1->pymp) (2.32.2)\n",
      "Collecting tqdm>=4.48.0 (from panel>=0.13.1->pymp)\n",
      "  Downloading tqdm-4.66.4-py3-none-any.whl.metadata (57 kB)\n",
      "\u001b[2K     \u001b[90m━━━━━━━━━━━━━━━━━━━━━━━━━━━━━━━━━━━━━━━━\u001b[0m \u001b[32m57.6/57.6 kB\u001b[0m \u001b[31m1.5 MB/s\u001b[0m eta \u001b[36m0:00:00\u001b[0m\n",
      "\u001b[?25hCollecting bleach (from panel>=0.13.1->pymp)\n",
      "  Downloading bleach-6.1.0-py3-none-any.whl.metadata (30 kB)\n",
      "Requirement already satisfied: typing-extensions in /Library/Frameworks/Python.framework/Versions/3.10/lib/python3.10/site-packages (from panel>=0.13.1->pymp) (4.12.0)\n",
      "Collecting iniconfig (from pytest->pymp)\n",
      "  Downloading iniconfig-2.0.0-py3-none-any.whl.metadata (2.6 kB)\n",
      "Requirement already satisfied: packaging in /Library/Frameworks/Python.framework/Versions/3.10/lib/python3.10/site-packages (from pytest->pymp) (21.3)\n",
      "Collecting pluggy<2.0,>=1.5 (from pytest->pymp)\n",
      "  Downloading pluggy-1.5.0-py3-none-any.whl.metadata (4.8 kB)\n",
      "Requirement already satisfied: exceptiongroup>=1.0.0rc8 in /Users/kirilleroshkin/Library/Python/3.10/lib/python/site-packages (from pytest->pymp) (1.2.0)\n",
      "Collecting tomli>=1 (from pytest->pymp)\n",
      "  Downloading tomli-2.0.1-py3-none-any.whl.metadata (8.9 kB)\n",
      "Collecting Jinja2>=2.9 (from bokeh<3.5.0,>=3.4.0->panel>=0.13.1->pymp)\n",
      "  Downloading jinja2-3.1.4-py3-none-any.whl.metadata (2.6 kB)\n",
      "Collecting contourpy>=1.2 (from bokeh<3.5.0,>=3.4.0->panel>=0.13.1->pymp)\n",
      "  Downloading contourpy-1.2.1-cp310-cp310-macosx_10_9_x86_64.whl.metadata (5.8 kB)\n",
      "Requirement already satisfied: pillow>=7.1.0 in /Library/Frameworks/Python.framework/Versions/3.10/lib/python3.10/site-packages (from bokeh<3.5.0,>=3.4.0->panel>=0.13.1->pymp) (9.1.1)\n",
      "Collecting PyYAML>=3.10 (from bokeh<3.5.0,>=3.4.0->panel>=0.13.1->pymp)\n",
      "  Downloading PyYAML-6.0.1-cp310-cp310-macosx_10_9_x86_64.whl.metadata (2.1 kB)\n",
      "Requirement already satisfied: tornado>=6.2 in /Users/kirilleroshkin/Library/Python/3.10/lib/python/site-packages (from bokeh<3.5.0,>=3.4.0->panel>=0.13.1->pymp) (6.4)\n",
      "Requirement already satisfied: pyparsing!=3.0.5,>=2.0.2 in /Library/Frameworks/Python.framework/Versions/3.10/lib/python3.10/site-packages (from packaging->pytest->pymp) (3.0.9)\n",
      "Requirement already satisfied: six>=1.5 in /Library/Frameworks/Python.framework/Versions/3.10/lib/python3.10/site-packages (from python-dateutil>=2.8.2->pandas>=0.25.0->pymp) (1.16.0)\n",
      "Requirement already satisfied: webencodings in /Library/Frameworks/Python.framework/Versions/3.10/lib/python3.10/site-packages (from bleach->panel>=0.13.1->pymp) (0.5.1)\n",
      "Collecting uc-micro-py (from linkify-it-py->panel>=0.13.1->pymp)\n",
      "  Downloading uc_micro_py-1.0.3-py3-none-any.whl.metadata (2.0 kB)\n",
      "Requirement already satisfied: mdurl~=0.1 in /Library/Frameworks/Python.framework/Versions/3.10/lib/python3.10/site-packages (from markdown-it-py->panel>=0.13.1->pymp) (0.1.2)\n",
      "Requirement already satisfied: charset-normalizer<4,>=2 in /Library/Frameworks/Python.framework/Versions/3.10/lib/python3.10/site-packages (from requests->panel>=0.13.1->pymp) (3.3.2)\n",
      "Requirement already satisfied: idna<4,>=2.5 in /Library/Frameworks/Python.framework/Versions/3.10/lib/python3.10/site-packages (from requests->panel>=0.13.1->pymp) (3.7)\n",
      "Requirement already satisfied: urllib3<3,>=1.21.1 in /Library/Frameworks/Python.framework/Versions/3.10/lib/python3.10/site-packages (from requests->panel>=0.13.1->pymp) (2.2.1)\n",
      "Requirement already satisfied: certifi>=2017.4.17 in /Library/Frameworks/Python.framework/Versions/3.10/lib/python3.10/site-packages (from requests->panel>=0.13.1->pymp) (2024.2.2)\n",
      "Requirement already satisfied: MarkupSafe>=2.0 in /Library/Frameworks/Python.framework/Versions/3.10/lib/python3.10/site-packages (from Jinja2>=2.9->bokeh<3.5.0,>=3.4.0->panel>=0.13.1->pymp) (2.1.5)\n",
      "Downloading panel-1.4.4-py3-none-any.whl (24.7 MB)\n",
      "\u001b[2K   \u001b[90m━━━━━━━━━━━━━━━━━━━━━━━━━━━━━━━━━━━━━━━━\u001b[0m \u001b[32m24.7/24.7 MB\u001b[0m \u001b[31m3.0 MB/s\u001b[0m eta \u001b[36m0:00:00\u001b[0m00:01\u001b[0m00:01\u001b[0m\n",
      "\u001b[?25hDownloading param-2.1.0-py3-none-any.whl (116 kB)\n",
      "\u001b[2K   \u001b[90m━━━━━━━━━━━━━━━━━━━━━━━━━━━━━━━━━━━━━━━━\u001b[0m \u001b[32m116.6/116.6 kB\u001b[0m \u001b[31m2.0 MB/s\u001b[0m eta \u001b[36m0:00:00\u001b[0m \u001b[36m0:00:01\u001b[0m\n",
      "\u001b[?25hDownloading pytest-8.2.1-py3-none-any.whl (339 kB)\n",
      "\u001b[2K   \u001b[90m━━━━━━━━━━━━━━━━━━━━━━━━━━━━━━━━━━━━━━━━\u001b[0m \u001b[32m339.6/339.6 kB\u001b[0m \u001b[31m1.1 MB/s\u001b[0m eta \u001b[36m0:00:00\u001b[0m00:01\u001b[0m00:01\u001b[0m\n",
      "\u001b[?25hDownloading bokeh-3.4.1-py3-none-any.whl (7.0 MB)\n",
      "\u001b[2K   \u001b[90m━━━━━━━━━━━━━━━━━━━━━━━━━━━━━━━━━━━━━━━━\u001b[0m \u001b[32m7.0/7.0 MB\u001b[0m \u001b[31m3.0 MB/s\u001b[0m eta \u001b[36m0:00:00\u001b[0m00:01\u001b[0m00:01\u001b[0m\n",
      "\u001b[?25hDownloading pluggy-1.5.0-py3-none-any.whl (20 kB)\n",
      "Downloading pyviz_comms-3.0.2-py3-none-any.whl (83 kB)\n",
      "\u001b[2K   \u001b[90m━━━━━━━━━━━━━━━━━━━━━━━━━━━━━━━━━━━━━━━━\u001b[0m \u001b[32m83.2/83.2 kB\u001b[0m \u001b[31m2.0 MB/s\u001b[0m eta \u001b[36m0:00:00\u001b[0m00:01\u001b[0m\n",
      "\u001b[?25hDownloading tomli-2.0.1-py3-none-any.whl (12 kB)\n",
      "Downloading tqdm-4.66.4-py3-none-any.whl (78 kB)\n",
      "\u001b[2K   \u001b[90m━━━━━━━━━━━━━━━━━━━━━━━━━━━━━━━━━━━━━━━━\u001b[0m \u001b[32m78.3/78.3 kB\u001b[0m \u001b[31m421.4 kB/s\u001b[0m eta \u001b[36m0:00:00\u001b[0ma \u001b[36m0:00:01\u001b[0m\n",
      "\u001b[?25hDownloading xyzservices-2024.4.0-py3-none-any.whl (81 kB)\n",
      "\u001b[2K   \u001b[90m━━━━━━━━━━━━━━━━━━━━━━━━━━━━━━━━━━━━━━━━\u001b[0m \u001b[32m82.0/82.0 kB\u001b[0m \u001b[31m3.0 MB/s\u001b[0m eta \u001b[36m0:00:00\u001b[0m\n",
      "\u001b[?25hDownloading bleach-6.1.0-py3-none-any.whl (162 kB)\n",
      "\u001b[2K   \u001b[90m━━━━━━━━━━━━━━━━━━━━━━━━━━━━━━━━━━━━━━━━\u001b[0m \u001b[32m162.8/162.8 kB\u001b[0m \u001b[31m4.1 MB/s\u001b[0m eta \u001b[36m0:00:00\u001b[0ma \u001b[36m0:00:01\u001b[0m\n",
      "\u001b[?25hDownloading iniconfig-2.0.0-py3-none-any.whl (5.9 kB)\n",
      "Downloading linkify_it_py-2.0.3-py3-none-any.whl (19 kB)\n",
      "Downloading mdit_py_plugins-0.4.1-py3-none-any.whl (54 kB)\n",
      "\u001b[2K   \u001b[90m━━━━━━━━━━━━━━━━━━━━━━━━━━━━━━━━━━━━━━━━\u001b[0m \u001b[32m54.8/54.8 kB\u001b[0m \u001b[31m1.9 MB/s\u001b[0m eta \u001b[36m0:00:00\u001b[0m\n",
      "\u001b[?25hDownloading contourpy-1.2.1-cp310-cp310-macosx_10_9_x86_64.whl (260 kB)\n",
      "\u001b[2K   \u001b[90m━━━━━━━━━━━━━━━━━━━━━━━━━━━━━━━━━━━━━━━━\u001b[0m \u001b[32m260.8/260.8 kB\u001b[0m \u001b[31m1.9 MB/s\u001b[0m eta \u001b[36m0:00:00\u001b[0ma \u001b[36m0:00:01\u001b[0m\n",
      "\u001b[?25hDownloading jinja2-3.1.4-py3-none-any.whl (133 kB)\n",
      "\u001b[2K   \u001b[90m━━━━━━━━━━━━━━━━━━━━━━━━━━━━━━━━━━━━━━━\u001b[0m \u001b[32m133.3/133.3 kB\u001b[0m \u001b[31m808.1 kB/s\u001b[0m eta \u001b[36m0:00:00\u001b[0m00:01\u001b[0m:01\u001b[0m\n",
      "\u001b[?25hDownloading PyYAML-6.0.1-cp310-cp310-macosx_10_9_x86_64.whl (189 kB)\n",
      "\u001b[2K   \u001b[90m━━━━━━━━━━━━━━━━━━━━━━━━━━━━━━━━━━━━━━━━\u001b[0m \u001b[32m189.4/189.4 kB\u001b[0m \u001b[31m1.0 MB/s\u001b[0m eta \u001b[36m0:00:00\u001b[0ma \u001b[36m0:00:01\u001b[0m\n",
      "\u001b[?25hDownloading uc_micro_py-1.0.3-py3-none-any.whl (6.2 kB)\n",
      "Building wheels for collected packages: pymp\n",
      "  Building wheel for pymp (setup.py) ... \u001b[?25ldone\n",
      "\u001b[?25h  Created wheel for pymp: filename=pymp-0.0.6-py3-none-any.whl size=10732630 sha256=4a4c11d32c165d52ce8622ad57696a77fb1c31dd8f6cc4b82ccc6122d0ae9bb9\n",
      "  Stored in directory: /Users/kirilleroshkin/Library/Caches/pip/wheels/99/92/1e/82915a2111011a0c0857b0b1cf41045dae2b63ac0517c2b0fe\n",
      "Successfully built pymp\n",
      "Installing collected packages: xyzservices, uc-micro-py, tqdm, tomli, PyYAML, pluggy, param, Jinja2, iniconfig, contourpy, bleach, pyviz-comms, pytest, mdit-py-plugins, linkify-it-py, bokeh, panel, pymp\n",
      "Successfully installed Jinja2-3.1.4 PyYAML-6.0.1 bleach-6.1.0 bokeh-3.4.1 contourpy-1.2.1 iniconfig-2.0.0 linkify-it-py-2.0.3 mdit-py-plugins-0.4.1 panel-1.4.4 param-2.1.0 pluggy-1.5.0 pymp-0.0.6 pytest-8.2.1 pyviz-comms-3.0.2 tomli-2.0.1 tqdm-4.66.4 uc-micro-py-1.0.3 xyzservices-2024.4.0\n",
      "Note: you may need to restart the kernel to use updated packages.\n"
     ]
    }
   ],
   "source": [
    "pip install pymp"
   ]
  },
  {
   "cell_type": "code",
   "execution_count": 45,
   "metadata": {},
   "outputs": [
    {
     "name": "stdout",
     "output_type": "stream",
     "text": [
      "Задача 1 выполняется потоком: 0\n",
      "Задача 2 выполняется потоком: 0\n",
      "Задача 3 выполняется потоком: 0\n",
      "Задача 4 выполняется потоком: 0\n",
      "Время выполнения параллельных задач: 0.8845140933990479 секунд\n"
     ]
    }
   ],
   "source": [
    "import time\n",
    "from numba import njit, prange\n",
    "\n",
    "@njit(parallel=True)\n",
    "def parallel_sections():\n",
    "    num_threads = 4\n",
    "    thread_num = 0  # Фиктивный номер потока для имитации поведения OpenMP\n",
    "\n",
    "    # Первая задача\n",
    "    for _ in prange(1):\n",
    "        if thread_num == 0:\n",
    "            task1(thread_num)\n",
    "\n",
    "    # Барьер для синхронизации всех потоков\n",
    "    # Вторая и третья задачи должны выполняться последовательно\n",
    "    for _ in prange(1):\n",
    "        if thread_num == 0:\n",
    "            task2(thread_num)\n",
    "        if thread_num == 0:\n",
    "            task3(thread_num)\n",
    "\n",
    "    # Последняя задача\n",
    "    for _ in prange(1):\n",
    "        if thread_num == 0:\n",
    "            task4(thread_num)\n",
    "\n",
    "@njit\n",
    "def task1(thread_num):\n",
    "    print(\"Задача 1 выполняется потоком:\", thread_num)\n",
    "\n",
    "@njit\n",
    "def task2(thread_num):\n",
    "    print(\"Задача 2 выполняется потоком:\", thread_num)\n",
    "\n",
    "@njit\n",
    "def task3(thread_num):\n",
    "    print(\"Задача 3 выполняется потоком:\", thread_num)\n",
    "\n",
    "@njit\n",
    "def task4(thread_num):\n",
    "    print(\"Задача 4 выполняется потоком:\", thread_num)\n",
    "\n",
    "if __name__ == \"__main__\":\n",
    "    start_time = time.time()\n",
    "    parallel_sections()\n",
    "    end_time = time.time()\n",
    "    print(\"Время выполнения параллельных задач:\", end_time - start_time, \"секунд\")\n"
   ]
  }
 ],
 "metadata": {
  "kernelspec": {
   "display_name": "Python 3",
   "language": "python",
   "name": "python3"
  },
  "language_info": {
   "codemirror_mode": {
    "name": "ipython",
    "version": 3
   },
   "file_extension": ".py",
   "mimetype": "text/x-python",
   "name": "python",
   "nbconvert_exporter": "python",
   "pygments_lexer": "ipython3",
   "version": "3.10.5"
  }
 },
 "nbformat": 4,
 "nbformat_minor": 2
}
