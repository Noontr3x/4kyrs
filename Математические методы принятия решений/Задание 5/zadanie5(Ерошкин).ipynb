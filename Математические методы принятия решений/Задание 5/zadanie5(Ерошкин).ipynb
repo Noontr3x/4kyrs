{
 "cells": [
  {
   "cell_type": "markdown",
   "metadata": {},
   "source": [
    "Задание 1"
   ]
  },
  {
   "cell_type": "code",
   "execution_count": null,
   "metadata": {},
   "outputs": [],
   "source": []
  },
  {
   "cell_type": "markdown",
   "metadata": {},
   "source": [
    "Задание 2"
   ]
  },
  {
   "cell_type": "code",
   "execution_count": 2,
   "metadata": {},
   "outputs": [
    {
     "name": "stdout",
     "output_type": "stream",
     "text": [
      "Охотник 1: около 69.57 кг\n",
      "Охотник 2: около 52.17 кг\n",
      "Охотник 3: около 26.09 кг\n",
      "Охотник 4: около 26.09 кг\n",
      "Охотник 5: около 26.09 кг\n"
     ]
    }
   ],
   "source": [
    "threat_points = [40, 30, 15, 15, 15]\n",
    "total_threat_points = sum(threat_points)\n",
    "total_meat = 200\n",
    "\n",
    "meat_distribution = []\n",
    "\n",
    "for points in threat_points:\n",
    "    share = (points / total_threat_points) * total_meat\n",
    "    meat_distribution.append(share)\n",
    "\n",
    "for i, meat in enumerate(meat_distribution):\n",
    "    print(f\"Охотник {i+1}: около {meat:.2f} кг\")\n"
   ]
  },
  {
   "cell_type": "markdown",
   "metadata": {},
   "source": [
    "Задание 3"
   ]
  },
  {
   "cell_type": "code",
   "execution_count": 1,
   "metadata": {},
   "outputs": [
    {
     "name": "stdout",
     "output_type": "stream",
     "text": [
      "Максимальное значение функции Нэша (с округлением): 8\n"
     ]
    }
   ],
   "source": [
    "import numpy as np\n",
    "from scipy.optimize import minimize\n",
    "\n",
    "def player1(x):\n",
    "    return -min(x[0], 10)  \n",
    "\n",
    "def player2(x):\n",
    "    return -min(x[1], 8)  \n",
    "\n",
    "def player3(x):\n",
    "    return -min(x[2], 14)  \n",
    "\n",
    "def constraint(x):\n",
    "    return x[0] + x[1] + x[2] - 70\n",
    "\n",
    "x0 = np.array([10, 8, 14])\n",
    "\n",
    "constraints = ({'type': 'eq', 'fun': constraint})\n",
    "result = minimize(player1, x0, method='SLSQP', constraints=constraints)\n",
    "max_utility = -result.fun\n",
    "\n",
    "result = minimize(player2, x0, method='SLSQP', constraints=constraints)\n",
    "max_utility = min(max_utility, -result.fun)\n",
    "\n",
    "result = minimize(player3, x0, method='SLSQP', constraints=constraints)\n",
    "max_utility = min(max_utility, -result.fun)\n",
    "\n",
    "print(\"Максимальное значение функции Нэша (с округлением):\", round(max_utility))\n"
   ]
  }
 ],
 "metadata": {
  "kernelspec": {
   "display_name": "Python 3",
   "language": "python",
   "name": "python3"
  },
  "language_info": {
   "codemirror_mode": {
    "name": "ipython",
    "version": 3
   },
   "file_extension": ".py",
   "mimetype": "text/x-python",
   "name": "python",
   "nbconvert_exporter": "python",
   "pygments_lexer": "ipython3",
   "version": "3.11.9"
  }
 },
 "nbformat": 4,
 "nbformat_minor": 2
}
