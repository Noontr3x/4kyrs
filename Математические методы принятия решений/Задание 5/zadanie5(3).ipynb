{
 "cells": [
  {
   "cell_type": "markdown",
   "metadata": {},
   "source": [
    "Задание 1"
   ]
  },
  {
   "cell_type": "code",
   "execution_count": 22,
   "metadata": {},
   "outputs": [
    {
     "name": "stdout",
     "output_type": "stream",
     "text": [
      "Смешанные стратегии для игрока A: [0.5 0.5]\n",
      "Смешанные стратегии для игрока B: [0.33333333 0.33333333 0.33333333]\n",
      "Цена игры: 29.5\n"
     ]
    }
   ],
   "source": [
    "import numpy as np\n",
    "\n",
    "payoffs = np.array([\n",
    "    [[6, 8, 12, 5], [8, 12, 8, 7], [5, 11, 3, 9]],\n",
    "    [[12, 6, 9, 2], [6, 13, 9, 5], [3, 5, 4, 9]],\n",
    "    [[3, 4, 7, 7], [2, 14, 10, 9], [9, 4, 8, 5]],\n",
    "    [[11, 2, 4, 14], [14, 6, 12, 11], [4, 7, 7, 3]],\n",
    "    [[8, 11, 11, 7], [5, 11, 7, 6], [9, 5, 5, 7]]\n",
    "])\n",
    "\n",
    "def check_dominated(strategies):\n",
    "    is_dominated = np.zeros(len(strategies), dtype=bool)\n",
    "    for i, s1 in enumerate(strategies):\n",
    "        for s2 in strategies:\n",
    "            if (s2 >= s1).all() and not (s2 == s1).all():\n",
    "                is_dominated[i] = True\n",
    "                break\n",
    "    return is_dominated\n",
    "\n",
    "def find_dominated_indices(strategies):\n",
    "    is_dominated = check_dominated(strategies)\n",
    "    return np.where(is_dominated)[0]\n",
    "\n",
    "dominated_indices_A = []\n",
    "dominated_indices_B = []\n",
    "for i in range(len(payoffs)):\n",
    "    dominated_indices_A.append(find_dominated_indices(payoffs[i]))\n",
    "    dominated_indices_B.append(find_dominated_indices(payoffs[i]))\n",
    "\n",
    "new_payoffs_A = np.delete(payoffs, np.concatenate(dominated_indices_A), axis=1)\n",
    "new_payoffs_B = np.delete(payoffs, np.concatenate(dominated_indices_B), axis=2)\n",
    "\n",
    "mixed_strategy_A = np.zeros(len(new_payoffs_A[0]))\n",
    "mixed_strategy_B = np.zeros(len(new_payoffs_B[0]))\n",
    "for i in range(len(new_payoffs_A[0])):\n",
    "    mixed_strategy_A[i] = 1 / len(new_payoffs_A[0])\n",
    "for j in range(len(new_payoffs_B[0])):\n",
    "    mixed_strategy_B[j] = 1 / len(new_payoffs_B[0])\n",
    "\n",
    "game_price = np.sum(np.dot(mixed_strategy_A, new_payoffs_A[0])) \n",
    "\n",
    "print(\"Смешанные стратегии для игрока A:\", mixed_strategy_A)\n",
    "print(\"Смешанные стратегии для игрока B:\", mixed_strategy_B)\n",
    "print(\"Цена игры:\", game_price)\n"
   ]
  },
  {
   "cell_type": "markdown",
   "metadata": {},
   "source": [
    "Задание 2"
   ]
  },
  {
   "cell_type": "code",
   "execution_count": 23,
   "metadata": {},
   "outputs": [
    {
     "name": "stdout",
     "output_type": "stream",
     "text": [
      "Справедливое распределение мяса:\n",
      "Охотник 1: 57.00 кг\n",
      "Охотник 2: 47.00 кг\n",
      "Охотник 3: 32.00 кг\n",
      "Охотник 4: 32.00 кг\n",
      "Охотник 5: 32.00 кг\n"
     ]
    }
   ],
   "source": [
    "from scipy.optimize import minimize\n",
    "\n",
    "threat_points = [40, 30, 15, 15, 15]\n",
    "total_meat = 200\n",
    "\n",
    "def objective(x):\n",
    "    surplus = [x[i] - threat_points[i] for i in range(len(x))]\n",
    "    product_of_surplus = 1\n",
    "    for s in surplus:\n",
    "        if s < 0:\n",
    "            return float('inf')  \n",
    "        product_of_surplus *= s\n",
    "    return -product_of_surplus\n",
    "\n",
    "constraints = (\n",
    "    {'type': 'eq', 'fun': lambda x: sum(x) - total_meat},  \n",
    "    {'type': 'ineq', 'fun': lambda x: x[0] - threat_points[0]},  \n",
    "    {'type': 'ineq', 'fun': lambda x: x[1] - threat_points[1]},  \n",
    "    {'type': 'ineq', 'fun': lambda x: x[2] - threat_points[2]},  \n",
    "    {'type': 'ineq', 'fun': lambda x: x[3] - threat_points[3]},  \n",
    "    {'type': 'ineq', 'fun': lambda x: x[4] - threat_points[4]}   \n",
    ")\n",
    "\n",
    "initial_guess = [40, 30, 15, 15, 15]\n",
    "\n",
    "result = minimize(objective, initial_guess, constraints=constraints)\n",
    "\n",
    "if result.success:\n",
    "    allocation = result.x\n",
    "    print(\"Справедливое распределение мяса:\")\n",
    "    for i, meat in enumerate(allocation):\n",
    "        print(f\"Охотник {i+1}: {meat:.2f} кг\")\n",
    "else:\n",
    "    print(\"Не удалось найти справедливое распределение\")\n"
   ]
  },
  {
   "cell_type": "markdown",
   "metadata": {},
   "source": [
    "Задание 3"
   ]
  },
  {
   "cell_type": "code",
   "execution_count": 24,
   "metadata": {},
   "outputs": [
    {
     "name": "stdout",
     "output_type": "stream",
     "text": [
      "Максимальное значение функции Нэша: 2032\n",
      "Оптимальные значения X1, X2, X3: [22.6666199  20.66649954 26.66688057]\n"
     ]
    }
   ],
   "source": [
    "from scipy.optimize import minimize\n",
    "\n",
    "points_of_threat = [10, 8, 14]\n",
    "initial_values = [20, 20, 30]  \n",
    "\n",
    "def nash_function(X):\n",
    "    X1, X2, X3 = X\n",
    "    if X1 < points_of_threat[0] or X2 < points_of_threat[1] or X3 < points_of_threat[2]:\n",
    "        return float('-inf') \n",
    "    return -(X1 - points_of_threat[0]) * (X2 - points_of_threat[1]) * (X3 - points_of_threat[2])\n",
    "\n",
    "def constraint(X):\n",
    "    return 70 - sum(X)\n",
    "\n",
    "bounds = [(points_of_threat[0], None), (points_of_threat[1], None), (points_of_threat[2], None)]\n",
    "\n",
    "constraints = {'type': 'eq', 'fun': constraint}\n",
    "\n",
    "result = minimize(nash_function, initial_values, method='SLSQP', bounds=bounds, constraints=constraints)\n",
    "\n",
    "if result.success:\n",
    "    max_nash_value = -result.fun\n",
    "    optimal_X = result.x\n",
    "    print(f\"Максимальное значение функции Нэша: {round(max_nash_value)}\")\n",
    "    print(f\"Оптимальные значения X1, X2, X3: {optimal_X}\")\n",
    "else:\n",
    "    print(\"Не удалось найти решение\")\n",
    "\n"
   ]
  }
 ],
 "metadata": {
  "kernelspec": {
   "display_name": "Python 3",
   "language": "python",
   "name": "python3"
  },
  "language_info": {
   "codemirror_mode": {
    "name": "ipython",
    "version": 3
   },
   "file_extension": ".py",
   "mimetype": "text/x-python",
   "name": "python",
   "nbconvert_exporter": "python",
   "pygments_lexer": "ipython3",
   "version": "3.10.0"
  }
 },
 "nbformat": 4,
 "nbformat_minor": 2
}
