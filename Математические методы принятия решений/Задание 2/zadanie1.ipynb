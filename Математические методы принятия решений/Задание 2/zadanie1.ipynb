{
 "cells": [
  {
   "cell_type": "code",
   "execution_count": 5,
   "metadata": {},
   "outputs": [
    {
     "name": "stdout",
     "output_type": "stream",
     "text": [
      "Collecting pulp\n",
      "  Downloading PuLP-2.8.0-py3-none-any.whl.metadata (5.4 kB)\n",
      "Downloading PuLP-2.8.0-py3-none-any.whl (17.7 MB)\n",
      "   ---------------------------------------- 0.0/17.7 MB ? eta -:--:--\n",
      "   ---------------------------------------- 0.0/17.7 MB 320.0 kB/s eta 0:00:56\n",
      "   ---------------------------------------- 0.1/17.7 MB 1.3 MB/s eta 0:00:14\n",
      "   - -------------------------------------- 0.5/17.7 MB 3.7 MB/s eta 0:00:05\n",
      "   -- ------------------------------------- 1.3/17.7 MB 7.6 MB/s eta 0:00:03\n",
      "   -------- ------------------------------- 3.8/17.7 MB 17.2 MB/s eta 0:00:01\n",
      "   ------------------ --------------------- 8.3/17.7 MB 31.2 MB/s eta 0:00:01\n",
      "   ------------------ --------------------- 8.3/17.7 MB 31.2 MB/s eta 0:00:01\n",
      "   ------------------- -------------------- 8.5/17.7 MB 27.2 MB/s eta 0:00:01\n",
      "   -------------------- ------------------- 9.0/17.7 MB 23.0 MB/s eta 0:00:01\n",
      "   --------------------- ------------------ 9.7/17.7 MB 21.4 MB/s eta 0:00:01\n",
      "   ---------------------- ----------------- 10.1/17.7 MB 20.9 MB/s eta 0:00:01\n",
      "   ------------------------- -------------- 11.5/17.7 MB 27.3 MB/s eta 0:00:01\n",
      "   ---------------------------- ----------- 12.5/17.7 MB 26.2 MB/s eta 0:00:01\n",
      "   ------------------------------- -------- 14.0/17.7 MB 25.2 MB/s eta 0:00:01\n",
      "   ---------------------------------- ----- 15.0/17.7 MB 22.6 MB/s eta 0:00:01\n",
      "   ------------------------------------- -- 16.6/17.7 MB 21.1 MB/s eta 0:00:01\n",
      "   ---------------------------------------  17.7/17.7 MB 19.8 MB/s eta 0:00:01\n",
      "   ---------------------------------------  17.7/17.7 MB 19.8 MB/s eta 0:00:01\n",
      "   ---------------------------------------  17.7/17.7 MB 19.8 MB/s eta 0:00:01\n",
      "   ---------------------------------------- 17.7/17.7 MB 15.6 MB/s eta 0:00:00\n",
      "Installing collected packages: pulp\n",
      "Successfully installed pulp-2.8.0\n",
      "Note: you may need to restart the kernel to use updated packages.\n"
     ]
    }
   ],
   "source": [
    "pip install pulp"
   ]
  },
  {
   "cell_type": "code",
   "execution_count": 6,
   "metadata": {},
   "outputs": [
    {
     "name": "stdout",
     "output_type": "stream",
     "text": [
      "Оптимальный рацион:\n",
      "Сено: 6.0\n",
      "Овес: 5.0\n",
      "Стоимость оптимального рациона: 86.0\n"
     ]
    }
   ],
   "source": [
    "from pulp import LpProblem, LpVariable, LpMinimize\n",
    "\n",
    "# Данные о кормах\n",
    "feeds = {\n",
    "    'Сено': {'жиры': 8, 'белки': 3, 'углеводы': 93, 'витамины': 10, 'цена': 6},\n",
    "    'Овес': {'жиры': 11, 'белки': 12, 'углеводы': 90, 'витамины': 20, 'цена': 10},\n",
    "    'Ячмень': {'жиры': 22, 'белки': 17, 'углеводы': 122, 'витамины': 30, 'цена': 17},\n",
    "    'Силос': {'жиры': 55, 'белки': 28, 'углеводы': 100, 'витамины': 80, 'цена': 25}\n",
    "}\n",
    "\n",
    "# Нормы потребления\n",
    "norms = {'жиры': 30, 'белки': 70, 'углеводы': 988, 'витамины': 58}\n",
    "\n",
    "# Создаем задачу\n",
    "problem = LpProblem(\"Optimal_feeding_plan\", LpMinimize)\n",
    "\n",
    "# Переменные рациона (сколько купить каждого корма)\n",
    "feed_vars = LpVariable.dicts(\"Feed\", feeds, lowBound=0, cat='Integer')\n",
    "\n",
    "# Целевая функция (минимизация стоимости)\n",
    "problem += sum(feed_vars[feed] * feeds[feed]['цена'] for feed in feeds)\n",
    "\n",
    "# Ограничения по потреблению питательных веществ\n",
    "for nutrient in norms:\n",
    "    problem += sum(feed_vars[feed] * feeds[feed][nutrient] for feed in feeds) >= norms[nutrient]\n",
    "\n",
    "# Решаем задачу\n",
    "problem.solve()\n",
    "\n",
    "# Вывод результатов\n",
    "print(\"Оптимальный рацион:\")\n",
    "for feed in feeds:\n",
    "    if feed_vars[feed].value() > 0:\n",
    "        print(f\"{feed}: {round(feed_vars[feed].value(), 2)}\")\n",
    "print(\"Стоимость оптимального рациона:\", round(problem.objective.value(), 2))\n"
   ]
  }
 ],
 "metadata": {
  "kernelspec": {
   "display_name": "Python 3",
   "language": "python",
   "name": "python3"
  },
  "language_info": {
   "codemirror_mode": {
    "name": "ipython",
    "version": 3
   },
   "file_extension": ".py",
   "mimetype": "text/x-python",
   "name": "python",
   "nbconvert_exporter": "python",
   "pygments_lexer": "ipython3",
   "version": "3.11.9"
  }
 },
 "nbformat": 4,
 "nbformat_minor": 2
}
