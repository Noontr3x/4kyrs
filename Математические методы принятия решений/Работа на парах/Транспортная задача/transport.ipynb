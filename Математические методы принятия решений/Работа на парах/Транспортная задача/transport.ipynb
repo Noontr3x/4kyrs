{
 "cells": [
  {
   "cell_type": "code",
   "execution_count": 1,
   "metadata": {},
   "outputs": [
    {
     "name": "stdout",
     "output_type": "stream",
     "text": [
      "Requirement already satisfied: scipy in /Library/Frameworks/Python.framework/Versions/3.10/lib/python3.10/site-packages (1.11.4)\n",
      "Requirement already satisfied: numpy<1.28.0,>=1.21.6 in /Library/Frameworks/Python.framework/Versions/3.10/lib/python3.10/site-packages (from scipy) (1.26.4)\n",
      "\n",
      "\u001b[1m[\u001b[0m\u001b[34;49mnotice\u001b[0m\u001b[1;39;49m]\u001b[0m\u001b[39;49m A new release of pip is available: \u001b[0m\u001b[31;49m23.3.2\u001b[0m\u001b[39;49m -> \u001b[0m\u001b[32;49m24.0\u001b[0m\n",
      "\u001b[1m[\u001b[0m\u001b[34;49mnotice\u001b[0m\u001b[1;39;49m]\u001b[0m\u001b[39;49m To update, run: \u001b[0m\u001b[32;49mpip install --upgrade pip\u001b[0m\n",
      "Note: you may need to restart the kernel to use updated packages.\n"
     ]
    }
   ],
   "source": [
    "pip install scipy\n"
   ]
  },
  {
   "cell_type": "code",
   "execution_count": 10,
   "metadata": {},
   "outputs": [
    {
     "name": "stdout",
     "output_type": "stream",
     "text": [
      "Оптимальное распределение:\n",
      "             Потребитель 1  Потребитель 2  Потребитель 3  Потребитель 4\n",
      "Поставщик 1            0.0           15.0            5.0            0.0\n",
      "Поставщик 2           10.0            0.0           20.0            0.0\n",
      "Поставщик 3            0.0           -0.0            0.0           25.0\n",
      "\n",
      "Минимальная стоимость: 615.0\n"
     ]
    }
   ],
   "source": [
    "import numpy as np\n",
    "from scipy.optimize import linprog\n",
    "import pandas as pd\n",
    "\n",
    "# Стоимости перевозок\n",
    "costs = [\n",
    "    [8, 6, 10, 9],\n",
    "    [9, 12, 13, 7],\n",
    "    [14, 9, 16, 5]\n",
    "]\n",
    "\n",
    "# Запасы у поставщиков\n",
    "supplies = [20, 30, 25]\n",
    "\n",
    "# Потребности у потребителей\n",
    "demands = [10, 15, 25, 25]\n",
    "\n",
    "costs = np.array(costs).flatten()\n",
    "\n",
    "num_suppliers = len(supplies)\n",
    "num_consumers = len(demands)\n",
    "\n",
    "A_eq = []\n",
    "b_eq = []\n",
    "\n",
    "for i in range(num_suppliers):\n",
    "    constraint = [0] * (num_suppliers * num_consumers)\n",
    "    for j in range(num_consumers):\n",
    "        constraint[i * num_consumers + j] = 1\n",
    "    A_eq.append(constraint)\n",
    "    b_eq.append(supplies[i])\n",
    "\n",
    "for j in range(num_consumers):\n",
    "    constraint = [0] * (num_suppliers * num_consumers)\n",
    "    for i in range(num_suppliers):\n",
    "        constraint[i * num_consumers + j] = 1\n",
    "    A_eq.append(constraint)\n",
    "    b_eq.append(demands[j])\n",
    "\n",
    "result = linprog(costs, A_eq=np.array(A_eq), b_eq=np.array(b_eq), method='highs')\n",
    "\n",
    "if result.success:\n",
    "    print(\"Оптимальное распределение:\")\n",
    "    x = result.x.reshape((num_suppliers, num_consumers))\n",
    "    df = pd.DataFrame(x, columns=[f'Потребитель {i+1}' for i in range(num_consumers)],\n",
    "                      index=[f'Поставщик {i+1}' for i in range(num_suppliers)])\n",
    "    print(df)\n",
    "    print(\"\\nМинимальная стоимость:\", result.fun)\n",
    "else:\n",
    "    print(\"Решение не найдено\")\n"
   ]
  },
  {
   "cell_type": "code",
   "execution_count": null,
   "metadata": {},
   "outputs": [],
   "source": []
  }
 ],
 "metadata": {
  "kernelspec": {
   "display_name": "Python 3",
   "language": "python",
   "name": "python3"
  },
  "language_info": {
   "codemirror_mode": {
    "name": "ipython",
    "version": 3
   },
   "file_extension": ".py",
   "mimetype": "text/x-python",
   "name": "python",
   "nbconvert_exporter": "python",
   "pygments_lexer": "ipython3",
   "version": "3.10.5"
  }
 },
 "nbformat": 4,
 "nbformat_minor": 2
}
